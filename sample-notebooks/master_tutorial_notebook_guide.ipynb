{
 "cells": [
  {
   "cell_type": "markdown",
   "metadata": {},
   "source": [
    "# ALAIN Master Guide: Writing Great Tutorial Notebooks\n",
    "\n",
    "Purpose: distill best practices from our collected notebooks and resources into a pragmatic, copyable guide for building pedagogically excellent, reproducible, and production-minded tutorial notebooks.\n",
    "\n",
    "Audience: authors and reviewers creating ALAIN lessons and example notebooks." 
   ]
  },
  {
   "cell_type": "markdown",
   "metadata": {},
   "source": [
    "## Table of Contents\n",
    "- Principles that make explanations resonate\n",
    "- Anatomy of a great tutorial notebook\n",
    "- Good vs. Bad traits (with examples)\n",
    "- Quality rubric (scoring)\n",
    "- Authoring checklist (pre-publish)\n",
    "- Environment preflight (template)\n",
    "- OpenAI-compatible client + streaming (template)\n",
    "- Reproducibility and cost controls\n",
    "- Accessibility and safety\n",
    "- Minimal outline template\n",
    "- References (internal docs)" 
   ]
  },
  {
   "cell_type": "markdown",
   "metadata": {},
   "source": [
    "## Principles: What Makes Explanations Resonate\n",
    "- Clarity-first: BLUF (Bottom Line Up Front), then details.\n",
    "- Progressive disclosure: small steps (3–5), one new idea per cell.\n",
    "- Show-then-tell: run a minimal example, then annotate why it works.\n",
    "- Pair code with plain-English rationale; define jargon before use.\n",
    "- Predict → Run → Reflect: ask a quick question before executing; reflect after.\n",
    "- Tie back to real tasks: each step should have an outcome a practitioner cares about.\n",
    "- Guardrails visible: note costs, limits, safety, and common pitfalls near where they matter.\n",
    "- Copy-paste friendly: small, self-contained cells with stable variables and defaults." 
   ]
  },
  {
   "cell_type": "markdown",
   "metadata": {},
   "source": [
    "## Anatomy of a Great Tutorial Notebook\n",
    "1) Title + Summary (who/what/why)\n",
    "2) Requirements & Preflight (env checks, keys present)\n",
    "3) Setup (imports, config, small helper funcs)\n",
    "4) Minimal Working Example (MWE)\n",
    "5) Concept Steps (3–5): each with goal, code, commentary, pitfalls, validation\n",
    "6) Extensions (parameter tuning, structured output, tools)\n",
    "7) Cost & Performance notes (tokens, latency, budgets)\n",
    "8) Wrap-up + Next steps + Links\n",
    "9) Appendix (troubleshooting, full refs)" 
   ]
  },
  {
   "cell_type": "markdown",
   "metadata": {},
   "source": [
    "## Good vs. Bad Traits\n",
    "- Good: small cells; deterministic seeds; explicit params; visible errors; restart-and-run-all passes; time estimates.\n",
    "- Bad: long monolithic cells; hidden state; magic globals; silent failures; secrets in code; vendor lock-in without abstraction; no cleanup.\n",
    "\n",
    "Shines in our samples:\n",
    "- Reproducible outputs via `seed` and low temperature.\n",
    "- Structured output strategies (JSON with schema/repair).\n",
    "- Streaming demos showing progressive results and cancellation.\n",
    "- Side-by-side comparisons (baseline vs tuned params) with concise plots.\n",
    "- Guardrails: rate limits, cost annotations, and clear error messages." 
   ]
  },
  {
   "cell_type": "markdown",
   "metadata": {},
   "source": [
    "## Notebook Quality Rubric (0–3 each; target ≥ 20/27)\n",
    "- Clarity: are goals and outcomes obvious?\n",
    "- Structure: small, logical steps with smooth flow.\n",
    "- Reproducibility: seeds, deterministic params, run-all success.\n",
    "- Safety: no secrets in code; disclaimers; input sanitization where relevant.\n",
    "- Cost awareness: token/time budgets, options to downscale.\n",
    "- Practicality: real-world task framing; copyable snippets.\n",
    "- Robustness: error handling, troubleshooting, edge cases.\n",
    "- Accessibility: alt text, readable figures, headings.\n",
    "- Pedagogy: predict→run→reflect; avoids jargon without definition." 
   ]
  },
  {
   "cell_type": "markdown",
   "metadata": {},
   "source": [
    "## Authoring Checklist (Pre-Publish)\n",
    "- [ ] Overview explains who/what/why in ≤ 5 lines\n",
    "- [ ] Preflight validates env and keys; fails fast with guidance\n",
    "- [ ] Restart-and-run-all passes in a fresh kernel\n",
    "- [ ] No secrets in source; config via env or `.env`\n",
    "- [ ] Cells ≤ 30 lines; one new idea per cell\n",
    "- [ ] Randomness controlled (seeds) and params logged\n",
    "- [ ] Cost/time notes near heavy cells; easy to downscale\n",
    "- [ ] Common pitfalls and troubleshooting included\n",
    "- [ ] Images/figures have alt text; tables readable\n",
    "- [ ] Links and attributions included; license clear" 
   ]
  },
  {
   "cell_type": "markdown",
   "metadata": {},
   "source": [
    "## Environment Preflight (Template)"
   ]
  },
  {
   "cell_type": "code",
   "execution_count": null,
   "metadata": {},
   "outputs": [],
   "source": [
    "import os, sys, platform, json\n",
    "print({'python': sys.version.split()[0], 'platform': platform.platform()})\n",
    "\n",
    "required = ['POE_API_KEY']  # add OPENAI_API_KEY/BASE_URL if using BYOK\n",
    "missing = [k for k in required if not os.getenv(k)]\n",
    "assert not missing, f'Missing required environment variables: {missing}'\n",
    "print('Env OK')\n"
   ]
  },
  {
   "cell_type": "markdown",
   "metadata": {},
   "source": [
    "## OpenAI-Compatible Client + Streaming (Template)\n",
    "This template works with Poe (`https://api.poe.com/v1`) and other OpenAI-compatible endpoints (BYOK)." 
   ]
  },
  {
   "cell_type": "code",
   "execution_count": null,
   "metadata": {},
   "outputs": [],
   "source": [
    "import requests, time\n",
    "\n",
    "BASE_URL = os.getenv('OPENAI_BASE_URL', 'https://api.poe.com/v1').rstrip('/')\n",
    "API_KEY = os.getenv('OPENAI_API_KEY') or os.getenv('POE_API_KEY')\n",
    "MODEL = os.getenv('TEACHER_MODEL', 'gpt-oss-20b')\n",
    "\n",
    "def chat_complete(messages, model=MODEL, stream=True, temperature=0, timeout=60):\n",
    "    headers = {'Authorization': f'Bearer {API_KEY}', 'Content-Type': 'application/json'}\n",
    "    payload = {'model': model, 'messages': messages, 'temperature': temperature, 'stream': stream}\n",
    "    url = f'{BASE_URL}/chat/completions'\n",
    "    with requests.post(url, headers=headers, json=payload, stream=stream, timeout=timeout) as r:\n",
    "        r.raise_for_status()\n",
    "        if not stream:\n",
    "            data = r.json()\n",
    "            return data['choices'][0]['message']['content']\n",
    "        # stream tokens\n",
    "        text = ''\n",
    "        for line in r.iter_lines():\n",
    "            if not line: continue\n",
    "            if line.startswith(b'data: '):\n",
    "                chunk = line[len(b'data: '):].decode('utf-8')\n",
    "                if chunk == '[DONE]': break\n",
    "                try:\n",
    "                    obj = json.loads(chunk)\n",
    "                    delta = obj['choices'][0].get('delta', {}).get('content')\n",
    "                    if delta:\n",
    "                        text += delta\n",
    "                        print(delta, end='', flush=True)\n",
    "                except Exception:\n",
    "                    pass\n",
    "        return text\n",
    "\n",
    "# Minimal example\n",
    "example = [\n",
    "    {'role': 'system', 'content': 'You are a helpful assistant.'},\n",
    "    {'role': 'user', 'content': 'In one sentence, what is a good tutorial notebook?'}\n",
    "]\n",
    "_ = chat_complete(example, stream=True)\n"
   ]
  },
  {
   "cell_type": "markdown",
   "metadata": {},
   "source": [
    "## Reproducibility and Cost Controls\n",
    "- Set `temperature=0` for deterministic demos; surface seeds if model supports.\n",
    "- Log token and latency if available; show a budget and remaining quota.\n",
    "- Provide small inputs first; optionally include a heavy cell with time estimate and a skip flag."
   ]
  },
  {
   "cell_type": "code",
   "execution_count": null,
   "metadata": {},
   "outputs": [],
   "source": [
    "import random, numpy as np\n",
    "random.seed(0); np.random.seed(0)\n",
    "print('Seeds set (Python, NumPy)')\n"
   ]
  },
  {
   "cell_type": "markdown",
   "metadata": {},
   "source": [
    "## Accessibility and Safety\n",
    "- Use headings and lists for scanability; avoid tiny fonts in figures.\n",
    "- Alt text for images; colorblind-safe palettes.\n",
    "- Avoid sensitive data; sanitize inputs; add disclaimers for medical/legal topics.\n",
    "- Include troubleshooting for common errors (auth, rate limits, network)."
   ]
  },
  {
   "cell_type": "markdown",
   "metadata": {},
   "source": [
    "## Minimal Outline Template (Copy/Paste)\n",
    "1. Title and Summary\n",
    "2. Requirements & Preflight\n",
    "3. Setup (imports, keys, client)\n",
    "4. Minimal Working Example\n",
    "5. Step 1: Core concept\n",
    "6. Step 2: Variation or parameter tuning\n",
    "7. Step 3: Structured output or tooling\n",
    "8. Extensions and exercises (predict→run→reflect)\n",
    "9. Cost/latency and pitfalls\n",
    "10. Wrap-up and next steps"
   ]
  },
  {
   "cell_type": "markdown",
   "metadata": {},
   "source": [
    "## References\n",
    "- Internal: `teacher-harmony-format.md`, `spec/lesson.schema.json`, `spec/lesson-validate-repair.ts`\n",
    "- Patterns drawn from: OpenAI Cookbook, Anthropic examples, and in-repo notebooks.\n",
    "\n",
    "Tip: Keep notebooks self-sufficient and compatible with Restart-and-Run-All." 
   ]
  }
 ],
 "metadata": {
  "kernelspec": {
   "display_name": "Python 3",
   "language": "python",
   "name": "python3"
  },
  "language_info": {
   "name": "python",
   "version": "3.10"
  }
 },
 "nbformat": 4,
 "nbformat_minor": 5
}

